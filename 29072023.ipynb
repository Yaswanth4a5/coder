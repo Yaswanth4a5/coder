{
  "nbformat": 4,
  "nbformat_minor": 0,
  "metadata": {
    "colab": {
      "provenance": [],
      "authorship_tag": "ABX9TyM3y667p5M3kbd8WxD8zFl6"
    },
    "kernelspec": {
      "name": "python3",
      "display_name": "Python 3"
    },
    "language_info": {
      "name": "python"
    }
  },
  "cells": [
    {
      "cell_type": "code",
      "source": [
        "no=int(input(\" enter a number \"))\n",
        "while no!=1:\n",
        "  print(no)\n",
        "  if no%2==0:\n",
        "   no=no//2\n",
        "  else:\n",
        "     no=no*3+1"
      ],
      "metadata": {
        "colab": {
          "base_uri": "https://localhost:8080/"
        },
        "id": "cVaCL6KeY8kx",
        "outputId": "49cafb17-03f3-4244-b045-3e98fc280bd9"
      },
      "execution_count": 7,
      "outputs": [
        {
          "output_type": "stream",
          "name": "stdout",
          "text": [
            " enter a number 7\n",
            "7\n",
            "22\n",
            "11\n",
            "34\n",
            "17\n",
            "52\n",
            "26\n",
            "13\n",
            "40\n",
            "20\n",
            "10\n",
            "5\n",
            "16\n",
            "8\n",
            "4\n",
            "2\n"
          ]
        }
      ]
    },
    {
      "cell_type": "code",
      "source": [
        "m=int(input(\"enter a month number \"))\n",
        "if (m==2):\n",
        "  print(\"28\\29days\")\n",
        "elif m in (1,3,5,7,8,10,12):\n",
        "  print(\"31 days\")\n",
        "else:\n",
        "  print(\"30 days\")"
      ],
      "metadata": {
        "colab": {
          "base_uri": "https://localhost:8080/"
        },
        "id": "Iu7fP2KSb2yf",
        "outputId": "e15eff6c-9e39-45b7-a195-380f6ebb4210"
      },
      "execution_count": 10,
      "outputs": [
        {
          "output_type": "stream",
          "name": "stdout",
          "text": [
            "enter a month number 5\n",
            "31 days\n"
          ]
        }
      ]
    },
    {
      "cell_type": "code",
      "execution_count": 9,
      "metadata": {
        "colab": {
          "base_uri": "https://localhost:8080/"
        },
        "id": "OCfLGAhTY4fH",
        "outputId": "a5dde92e-aea8-4cd2-d769-1d95faf6b98d"
      },
      "outputs": [
        {
          "output_type": "stream",
          "name": "stdout",
          "text": [
            "enter range9\n",
            "0 1 1 2 3 5 8 13 21 "
          ]
        }
      ],
      "source": [
        "n=int(input(\"enter range\"))\n",
        "n1=0\n",
        "n2=1\n",
        "print(n1,n2,end=\" \")\n",
        "for i in range(2,n):\n",
        "  n3=n1+n2\n",
        "  n1=n2\n",
        "  n2=n3\n",
        "  print(n3,end=\" \");"
      ]
    }
  ]
}