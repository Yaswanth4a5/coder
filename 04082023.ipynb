{
  "nbformat": 4,
  "nbformat_minor": 0,
  "metadata": {
    "colab": {
      "provenance": [],
      "authorship_tag": "ABX9TyMD3LbzdVYbCu0ZxB6PCKRj"
    },
    "kernelspec": {
      "name": "python3",
      "display_name": "Python 3"
    },
    "language_info": {
      "name": "python"
    }
  },
  "cells": [
    {
      "cell_type": "code",
      "execution_count": 2,
      "metadata": {
        "colab": {
          "base_uri": "https://localhost:8080/"
        },
        "id": "tunFgc82EDkv",
        "outputId": "0401a7bf-7e91-4e62-9156-fd645aa42533"
      },
      "outputs": [
        {
          "output_type": "stream",
          "name": "stdout",
          "text": [
            "7\n",
            "not weird\n"
          ]
        }
      ],
      "source": [
        "n=int(input())\n",
        "if n%2==0:\n",
        "  if n>6 and n<=20:\n",
        "    print(\"weird\")\n",
        "  else:\n",
        "    print(\"not weird\")\n",
        "else:\n",
        "    print(\"not weird\")"
      ]
    },
    {
      "cell_type": "code",
      "source": [
        "num=[1,2,4,5,0]\n",
        "n1=[]\n",
        "n2=[]\n",
        "for i in num:\n",
        "  if i==0:\n",
        "    n1.append(i)\n",
        "  else:\n",
        "    n2.append(i)\n",
        "print(n2+n1)"
      ],
      "metadata": {
        "colab": {
          "base_uri": "https://localhost:8080/"
        },
        "id": "sFo2LQHoEFRk",
        "outputId": "826e5fe2-0cbd-4af6-a5dc-fd3a597ee5ae"
      },
      "execution_count": 3,
      "outputs": [
        {
          "output_type": "stream",
          "name": "stdout",
          "text": [
            "[1, 2, 4, 5, 0]\n"
          ]
        }
      ]
    }
  ]
}