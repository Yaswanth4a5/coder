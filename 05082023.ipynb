{
  "nbformat": 4,
  "nbformat_minor": 0,
  "metadata": {
    "colab": {
      "provenance": [],
      "authorship_tag": "ABX9TyPMl85T/svGYA5lg0exU6gz"
    },
    "kernelspec": {
      "name": "python3",
      "display_name": "Python 3"
    },
    "language_info": {
      "name": "python"
    }
  },
  "cells": [
    {
      "cell_type": "code",
      "execution_count": 7,
      "metadata": {
        "colab": {
          "base_uri": "https://localhost:8080/"
        },
        "id": "B6eJOl0h728S",
        "outputId": "353f7973-ea4d-4e0d-c66c-5d078dccbb5f"
      },
      "outputs": [
        {
          "output_type": "stream",
          "name": "stdout",
          "text": [
            " india to welcome\n"
          ]
        }
      ],
      "source": [
        "s=\"welcome to india\".split()\n",
        "n=\" \"\n",
        "for i in s[::-1]:\n",
        "  n+=i+\" \"\n",
        "st=n[:-1]\n",
        "print(st)"
      ]
    },
    {
      "cell_type": "code",
      "source": [
        "n=int(input())\n",
        "for i in range(n):\n",
        "  print(i**2)"
      ],
      "metadata": {
        "colab": {
          "base_uri": "https://localhost:8080/"
        },
        "id": "opZxnk3A9ZKT",
        "outputId": "1ea424fc-d39b-4973-f067-c89856343754"
      },
      "execution_count": 5,
      "outputs": [
        {
          "output_type": "stream",
          "name": "stdout",
          "text": [
            "9\n",
            "0\n",
            "1\n",
            "4\n",
            "9\n",
            "16\n",
            "25\n",
            "36\n",
            "49\n",
            "64\n"
          ]
        }
      ]
    }
  ]
}